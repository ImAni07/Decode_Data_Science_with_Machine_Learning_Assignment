{
 "cells": [
  {
   "cell_type": "markdown",
   "metadata": {},
   "source": [
    "# PWSkills Assignment\n",
    "Course: Decode Data Science With Machine Learning"
   ]
  },
  {
   "cell_type": "markdown",
   "metadata": {},
   "source": [
    "Note:\n",
    "1. Each Question Part consists of 3 Cells - (2 Markdown Cells, 1 each for question and the explanation or insights of the code & 1 Coding Cell with the Solution).\n",
    "2. Each Code has been Executed and the Output can be seen just below the Coding Cell."
   ]
  },
  {
   "cell_type": "markdown",
   "metadata": {},
   "source": [
    "Question No. - 2:\n",
    "\n",
    "Design and implement a Python program for managing student information using object-oriented principles. Create a class called `Student` with encapsulated attributes for name, age, and roll number. Implement getter and setter methods for these attributes. Additionally, provide methods to display student \n",
    "information and update student details.\n",
    "\n",
    "Tasks:\n",
    "1. Define the `Student` class with encapsulated attributes\n",
    "2. Implement getter and setter methods for the attributes\n",
    "3. Write methods to display student information and update details\n",
    "4. Create instances of the `Student` class and test the implemented functionality."
   ]
  },
  {
   "cell_type": "code",
   "execution_count": 1,
   "metadata": {},
   "outputs": [
    {
     "name": "stdout",
     "output_type": "stream",
     "text": [
      "Name: Anirban, Age: 24, Roll Number: IITG003\n",
      "Details updated successfully!\n",
      "Name: Anirban, Age: 21, Roll Number: IITG003\n"
     ]
    }
   ],
   "source": [
    "class Student:\n",
    "    def __init__(self, name, age, roll_number):\n",
    "        self.__name = name\n",
    "        self.__age = age\n",
    "        self.__roll_number = roll_number\n",
    "\n",
    "    # Getter methods\n",
    "    def get_name(self):\n",
    "        return self.__name\n",
    "\n",
    "    def get_age(self):\n",
    "        return self.__age\n",
    "\n",
    "    def get_roll_number(self):\n",
    "        return self.__roll_number\n",
    "\n",
    "    # Setter methods\n",
    "    def set_name(self, name):\n",
    "        self.__name = name\n",
    "\n",
    "    def set_age(self, age):\n",
    "        if age > 0:\n",
    "            self.__age = age\n",
    "        else:\n",
    "            print(\"Invalid age\")\n",
    "\n",
    "    def set_roll_number(self, roll_number):\n",
    "        self.__roll_number = roll_number\n",
    "\n",
    "    # Method to display student information\n",
    "    def display_info(self):\n",
    "        print(f\"Name: {self.__name}, Age: {self.__age}, Roll Number: {self.__roll_number}\")\n",
    "\n",
    "    # Method to update student details\n",
    "    def update_details(self, name=None, age=None, roll_number=None):\n",
    "        if name:\n",
    "            self.set_name(name)\n",
    "        if age:\n",
    "            self.set_age(age)\n",
    "        if roll_number:\n",
    "            self.set_roll_number(roll_number)\n",
    "        print(\"Details updated successfully!\")\n",
    "\n",
    "# Testing the implementation\n",
    "student1 = Student(\"Anirban\", 24, \"IITG003\")\n",
    "student1.display_info()\n",
    "\n",
    "student1.update_details(age=21)\n",
    "student1.display_info()"
   ]
  },
  {
   "cell_type": "markdown",
   "metadata": {},
   "source": [
    "Explanation:\n",
    "1. The 'Student' Class has been defined and the 'name', 'age', 'roll_number' attributes have been encapsulated by using private variables ('__name', '__age', '__roll_number').\n",
    "2. The Getter Methods have been defined for each attribute to retrieve their values.\n",
    "3. The Setter Methods have been defined for each attribute to modify their values with proper validation.\n",
    "4. A 'display_info()' method has been created and implemented to print the student's details.\n",
    "5. A 'update_details()' method has been created and implemented to update the student's details.\n",
    "6. The functionality has been tested by creating instances of the 'Student' class and using the methods to display and update student details.\n",
    "7. The code has run successfully and the desired output has been generated."
   ]
  },
  {
   "cell_type": "markdown",
   "metadata": {},
   "source": [
    "Question No. - 3:\n",
    "\n",
    "Develop a Python program for managing library resources efficiently. Design a class named `LibraryBook` with attributes like book name, author, and availability status. Implement methods for borrowing and returning books while ensuring proper encapsulation of attributes.\n",
    "\n",
    "Tasks:\n",
    "1. Create the `LibraryBook` class with encapsulated attributes\n",
    "2. Implement methods for borrowing and returning books\n",
    "3. Ensure proper encapsulation to protect book details\n",
    "4. Test the borrowing and returning functionality with sample data"
   ]
  },
  {
   "cell_type": "code",
   "execution_count": 2,
   "metadata": {},
   "outputs": [
    {
     "name": "stdout",
     "output_type": "stream",
     "text": [
      "Bravehearts of Bharat: Vignettes From History has been borrowed.\n",
      "Bravehearts of Bharat: Vignettes From History has been returned.\n"
     ]
    }
   ],
   "source": [
    "class LibraryBook:\n",
    "    def __init__(self, book_name, author):\n",
    "        self.__book_name = book_name\n",
    "        self.__author = author\n",
    "        self.__is_available = True\n",
    "\n",
    "    # Getter methods\n",
    "    def get_book_name(self):\n",
    "        return self.__book_name\n",
    "\n",
    "    def get_author(self):\n",
    "        return self.__author\n",
    "\n",
    "    def is_book_available(self):\n",
    "        return self.__is_available\n",
    "\n",
    "    # Borrow book method\n",
    "    def borrow_book(self):\n",
    "        if self.__is_available:\n",
    "            self.__is_available = False\n",
    "            print(f\"{self.__book_name} has been borrowed.\")\n",
    "        else:\n",
    "            print(f\"{self.__book_name} is currently unavailable.\")\n",
    "\n",
    "    # Return book method\n",
    "    def return_book(self):\n",
    "        if not self.__is_available:\n",
    "            self.__is_available = True\n",
    "            print(f\"{self.__book_name} has been returned.\")\n",
    "        else:\n",
    "            print(f\"{self.__book_name} was not borrowed.\")\n",
    "\n",
    "# Testing the implementation\n",
    "book1 = LibraryBook(\"Bravehearts of Bharat: Vignettes From History\", \"Vikram Sampath\")\n",
    "book1.borrow_book()\n",
    "book1.return_book()"
   ]
  },
  {
   "cell_type": "markdown",
   "metadata": {},
   "source": [
    "Explanation:\n",
    "1. A Class named 'LibraryBook' with private attributes 'book_name', 'author' and 'is_available' has been defined.\n",
    "2. Define a 'borrow_book()' method to check the availability and mark the book as borrowed.\n",
    "3. Define a 'return_book()' method to mark the book as returned.\n",
    "4. Ensuring proper encapsulation by the usage of getter methods to check the availability of a book and setter methods to update the status.\n",
    "5. The functionality of Borrowing ('borrow_book()') and Returning ('return_book()') has been tested by creating instances of class 'LibraryBook' and testing the functions with sample data.\n",
    "6. The code has run successfully and the desired output has been generated."
   ]
  },
  {
   "cell_type": "markdown",
   "metadata": {},
   "source": [
    "Question No. - 4:\n",
    "\n",
    "Create a simple banking system using object-oriented concepts in Python. Design classes representing different types of bank accounts such as savings and checking. Implement methods for deposit, withdraw, and balance inquiry. Utilize inheritance to manage different account types efficiently.\n",
    "\n",
    "Tasks:\n",
    "1. Define base class(es) for bank accounts with common attributes and methods\n",
    "2. Implement subclasses for specific account types (e.g., SavingsAccount, CheckingAccount)\n",
    "3. Provide methods for deposit, withdraw, and balance inquiry in each subclass\n",
    "4. Test the banking system by creating instances of different account types and performing transactions."
   ]
  },
  {
   "cell_type": "code",
   "execution_count": 8,
   "metadata": {},
   "outputs": [
    {
     "name": "stdout",
     "output_type": "stream",
     "text": [
      "Interest added: 20.0. New balance is 1020.0.\n",
      "Withdrew 200. New balance is 820.0.\n",
      "Withdrew 900. New balance is -400.\n",
      "Deposited 400. New balance is 0.\n"
     ]
    }
   ],
   "source": [
    "class BankAccount:\n",
    "    def __init__(self, account_number, balance=0):\n",
    "        self.account_number = account_number\n",
    "        self.balance = balance\n",
    "\n",
    "    def deposit(self, amount):\n",
    "        self.balance += amount\n",
    "        print(f\"Deposited {amount}. New balance is {self.balance}.\")\n",
    "\n",
    "    def withdraw(self, amount):\n",
    "        if amount <= self.balance:\n",
    "            self.balance -= amount\n",
    "            print(f\"Withdrew {amount}. New balance is {self.balance}.\")\n",
    "        else:\n",
    "            print(\"Insufficient balance!\")\n",
    "\n",
    "    def check_balance(self):\n",
    "        return self.balance\n",
    "\n",
    "class SavingsAccount(BankAccount):\n",
    "    def __init__(self, account_number, balance=0, interest_rate=0.02):\n",
    "        super().__init__(account_number, balance)\n",
    "        self.interest_rate = interest_rate\n",
    "\n",
    "    def add_interest(self):\n",
    "        interest = self.balance * self.interest_rate\n",
    "        self.balance += interest\n",
    "        print(f\"Interest added: {interest}. New balance is {self.balance}.\")\n",
    "\n",
    "class CheckingAccount(BankAccount):\n",
    "    def __init__(self, account_number, balance=0, overdraft_limit=500):\n",
    "        super().__init__(account_number, balance)\n",
    "        self.overdraft_limit = overdraft_limit\n",
    "\n",
    "    def withdraw(self, amount):\n",
    "        if amount <= self.balance + self.overdraft_limit:\n",
    "            self.balance -= amount\n",
    "            print(f\"Withdrew {amount}. New balance is {self.balance}.\")\n",
    "        else:\n",
    "            print(\"Overdraft limit exceeded!\")\n",
    "\n",
    "# Testing the implementation\n",
    "savings = SavingsAccount(\"SA123\", 1000)\n",
    "savings.add_interest()\n",
    "savings.withdraw(200)\n",
    "\n",
    "checking = CheckingAccount(\"CA456\", 500)\n",
    "checking.withdraw(900)\n",
    "checking.deposit(400)"
   ]
  },
  {
   "cell_type": "markdown",
   "metadata": {},
   "source": [
    "Explanation:\n",
    "1. A base class named 'BankAccount' with common attributes like 'account_number' and 'balance' has been defined.\n",
    "2. For specific types of accounts, subclasses have been created, like 'SavingsAccount' and 'CheckingAccount', that inherit from 'BankAccount'.\n",
    "3. Methods for Deposit, Withdraw and Balance Inquiry have been implemented as 'deposit()', 'withdraw()' and 'check_balance()' methods, respectively, in each class.\n",
    "4. The Banking System has been tested by creating instances of 'SavingsAccount' and 'CheckingAccount' and performing transactions to verify the result.\n",
    "5. The code has run successfully and the desired output has been generated."
   ]
  },
  {
   "cell_type": "markdown",
   "metadata": {},
   "source": [
    "Question No. - 5:\n",
    "\n",
    "Write a Python program that models different animals and their sounds. Design a base class called `Animal` with a method `make_sound()`. Create subclasses like `Dog` and `Cat` that override the `make_sound()` method to produce appropriate sounds.\n",
    "\n",
    "Tasks:\n",
    "1. Define the `Animal` class with a method `make_sound()`\n",
    "2. Create subclasses `Dog` and `Cat` that override the `make_sound()` method\n",
    "3. Implement the sound generation logic for each subclass\n",
    "4. Test the program by creating instances of `Dog` and `Cat` and calling the `make_sound()` method."
   ]
  },
  {
   "cell_type": "code",
   "execution_count": 9,
   "metadata": {},
   "outputs": [
    {
     "name": "stdout",
     "output_type": "stream",
     "text": [
      "Woof!\n",
      "Meow!\n"
     ]
    }
   ],
   "source": [
    "class Animal:\n",
    "    def make_sound(self):\n",
    "        print(\"Some generic animal sound\")\n",
    "\n",
    "class Dog(Animal):\n",
    "    def make_sound(self):\n",
    "        print(\"Woof!\")\n",
    "\n",
    "class Cat(Animal):\n",
    "    def make_sound(self):\n",
    "        print(\"Meow!\")\n",
    "\n",
    "# Testing the implementation\n",
    "dog = Dog()\n",
    "cat = Cat()\n",
    "\n",
    "dog.make_sound()\n",
    "cat.make_sound()"
   ]
  },
  {
   "cell_type": "markdown",
   "metadata": {},
   "source": [
    "Explanation:\n",
    "1. A base class called 'Animal' is created, with a method 'make_sound()' that print a generic sound message.\n",
    "2. The subcclasses of 'Dog' and 'Cat' that override the 'make_sound()' method to produce specific sounds have been created.\n",
    "3. In the 'Dog' class, make the 'make_sound()' method print \"Woof!\".\n",
    "4. In the 'Cat' class, make the 'make_sound()' method print \"Meow!\".\n",
    "5. The Program has been tested by creating instances of 'Dog' and 'Cat' and calling the method 'make_sound()' to verify the correct sound is produced.\n",
    "6. The code has run successfully and the desired output has been generated."
   ]
  },
  {
   "cell_type": "markdown",
   "metadata": {},
   "source": [
    "Question No. - 6:\n",
    "\n",
    "Write a code for Restaurant Management System Using OOPS.\n",
    "\n",
    "Perform the following:\n",
    "1. Create a MenuItem class that has attributes such as name, description, price, and category.\n",
    "2. Implement methods to add a new menu item, update menu item information, and remove a menu item from the menu.\n",
    "3. Use encapsulation to hide the menu item's unique identification number.\n",
    "4. Inherit from the MenuItem class to create a FoodItem class and a BeverageItem class, each with their own specific attributes and methods."
   ]
  },
  {
   "cell_type": "code",
   "execution_count": 14,
   "metadata": {},
   "outputs": [
    {
     "name": "stdout",
     "output_type": "stream",
     "text": [
      "Parantha (Main Course) - Rs. 50 :- Aloo Parantha\n",
      "Chaay (Beverage) - Rs. 30 :- Masala Chaay\n"
     ]
    }
   ],
   "source": [
    "class MenuItem:\n",
    "    def __init__(self, name, description, price, category):\n",
    "        self.__item_id = id(self)  # Encapsulated unique ID\n",
    "        self.name = name\n",
    "        self.description = description\n",
    "        self.price = price\n",
    "        self.category = category\n",
    "\n",
    "    def update_item(self, name=None, description=None, price=None, category=None):\n",
    "        if name:\n",
    "            self.name = name\n",
    "        if description:\n",
    "            self.description = description\n",
    "        if price:\n",
    "            self.price = price\n",
    "        if category:\n",
    "            self.category = category\n",
    "\n",
    "    def remove_item(self):\n",
    "        del self\n",
    "\n",
    "    def display_item(self):\n",
    "        return f\"{self.name} ({self.category}) - Rs. {self.price} :- {self.description}\"\n",
    "\n",
    "class FoodItem(MenuItem):\n",
    "    def __init__(self, name, description, price, category, vegetarian):\n",
    "        super().__init__(name, description, price, category)\n",
    "        self.vegetarian = vegetarian\n",
    "\n",
    "class BeverageItem(MenuItem):\n",
    "    def __init__(self, name, description, price, category, alcoholic):\n",
    "        super().__init__(name, description, price, category)\n",
    "        self.alcoholic = alcoholic\n",
    "\n",
    "# Example usage:\n",
    "parantha = FoodItem(\"Parantha\", \"Aloo Parantha\", 50, \"Main Course\", vegetarian=True)\n",
    "tea = BeverageItem(\"Chaay\", \"Masala Chaay\", 30, \"Beverage\", alcoholic=False)\n",
    "print(parantha.display_item())\n",
    "print(tea.display_item())"
   ]
  },
  {
   "cell_type": "markdown",
   "metadata": {},
   "source": [
    "Explanation:\n",
    "1. The 'MenuItem' Class is created and attributes such as 'name', 'description', 'price' and 'category' are defined.\n",
    "2. The unique identification number for each menu item has been encapsulated.\n",
    "3. The methods are implemented to perform tasks such as add, update and remove items.\n",
    "4. Subclasses 'FoodItem' and 'BeverageItem' have been created, which inherit from the class 'MenuItem' and specific attributes for foods and beveragges have also been added.\n",
    "5. The code has run successfully and the desired output has been generated."
   ]
  },
  {
   "cell_type": "markdown",
   "metadata": {},
   "source": [
    "Question No. - 7:\n",
    "\n",
    "Write a code for  Hotel Management System using OOPS.\n",
    "\n",
    "Perform the following:\n",
    "1. Create a Room class that has attributes such as room number, room type, rate, and availability (private).\n",
    "2. Implement methods to book a room, check in a guest, and check out a guest.\n",
    "3. Use encapsulation to hide the room's unique identification number.\n",
    "4. Inherit from the Room class to create a SuiteRoom class and a StandardRoom class, each with their own specific attributes and methods."
   ]
  },
  {
   "cell_type": "code",
   "execution_count": 15,
   "metadata": {},
   "outputs": [
    {
     "name": "stdout",
     "output_type": "stream",
     "text": [
      "True\n",
      "Room is already booked.\n",
      "Checked out successfully.\n"
     ]
    }
   ],
   "source": [
    "class Room:\n",
    "    def __init__(self, room_number, room_type, rate, availability=True):\n",
    "        self.__room_id = id(self)  # Encapsulated unique ID\n",
    "        self.room_number = room_number\n",
    "        self.room_type = room_type\n",
    "        self.rate = rate\n",
    "        self.availability = availability\n",
    "\n",
    "    def book_room(self):\n",
    "        if self.availability:\n",
    "            self.availability = False\n",
    "            return True\n",
    "        return False\n",
    "\n",
    "    def check_in(self):\n",
    "        if not self.availability:\n",
    "            return \"Room is already booked.\"\n",
    "        self.availability = False\n",
    "        return \"Checked in successfully.\"\n",
    "\n",
    "    def check_out(self):\n",
    "        if self.availability:\n",
    "            return \"Room is already available.\"\n",
    "        self.availability = True\n",
    "        return \"Checked out successfully.\"\n",
    "\n",
    "class SuiteRoom(Room):\n",
    "    def __init__(self, room_number, rate, extra_services):\n",
    "        super().__init__(room_number, \"Suite\", rate)\n",
    "        self.extra_services = extra_services\n",
    "\n",
    "class StandardRoom(Room):\n",
    "    def __init__(self, room_number, rate):\n",
    "        super().__init__(room_number, \"Standard\", rate)\n",
    "\n",
    "# Example usage:\n",
    "suite = SuiteRoom(101, 200, extra_services=\"Spa\")\n",
    "standard = StandardRoom(102, 100)\n",
    "print(suite.book_room())\n",
    "print(suite.check_in())\n",
    "print(suite.check_out())"
   ]
  },
  {
   "cell_type": "markdown",
   "metadata": {},
   "source": [
    "Explanation:\n",
    "1. A Class named 'Room' has been defined.\n",
    "2. It has attributes like 'room_number', 'room_type', 'rate' and 'availability'.\n",
    "3. The unique room identification number has been encapsulated.\n",
    "4. Implement methods for booking, check-in, and check-out.\n",
    "5. Subclasses such as 'SuiteRoom' and 'StandardRoom' have been created which inherit from the class 'Room'.\n",
    "6. Add specific attributes and methods for suite and standard rooms.\n",
    "7. The code has run successfully and the desired output has been generated."
   ]
  },
  {
   "cell_type": "markdown",
   "metadata": {},
   "source": [
    "Question No. - 8:\n",
    "\n",
    "Write a code for  Fitness Club Management System using OOPS.\n",
    "\n",
    "Perform the following:\n",
    "1. Create a Member class that has attributes such as name, age, membership type, and membership status (private).\n",
    "2. Implement methods to register a new member, renew a membership, and cancel a membership.\n",
    "3. Use encapsulation to hide the member's unique identification number.\n",
    "4. Inherit from the Member class to create a FamilyMember class and an IndividualMember class, each with their own specific attributes and methods."
   ]
  },
  {
   "cell_type": "code",
   "execution_count": 17,
   "metadata": {},
   "outputs": [
    {
     "name": "stdout",
     "output_type": "stream",
     "text": [
      "Anirban Majumder has been registered.\n",
      "Membership cancelled.\n"
     ]
    }
   ],
   "source": [
    "class Member:\n",
    "    def __init__(self, name, age, membership_type, membership_status=\"Active\"):\n",
    "        self.__member_id = id(self)  # Encapsulated unique ID\n",
    "        self.name = name\n",
    "        self.age = age\n",
    "        self.membership_type = membership_type\n",
    "        self.membership_status = membership_status\n",
    "\n",
    "    def register_member(self):\n",
    "        return f\"{self.name} has been registered.\"\n",
    "\n",
    "    def renew_membership(self):\n",
    "        if self.membership_status == \"Active\":\n",
    "            return \"Membership is already active.\"\n",
    "        self.membership_status = \"Active\"\n",
    "        return \"Membership renewed successfully.\"\n",
    "\n",
    "    def cancel_membership(self):\n",
    "        self.membership_status = \"Inactive\"\n",
    "        return \"Membership cancelled.\"\n",
    "\n",
    "class FamilyMember(Member):\n",
    "    def __init__(self, name, age, membership_type, family_members):\n",
    "        super().__init__(name, age, membership_type)\n",
    "        self.family_members = family_members\n",
    "\n",
    "class IndividualMember(Member):\n",
    "    def __init__(self, name, age, membership_type):\n",
    "        super().__init__(name, age, membership_type)\n",
    "\n",
    "# Example usage:\n",
    "john = FamilyMember(\"Anirban Majumder\", 24, \"Family\", family_members=3)\n",
    "print(john.register_member())\n",
    "print(john.cancel_membership())"
   ]
  },
  {
   "cell_type": "markdown",
   "metadata": {},
   "source": [
    "Explanation:\n",
    "1. A 'Member' class has been created.\n",
    "2. It has attributes like 'name', 'age', 'membership_type' and 'membership_status'.\n",
    "3. Encapsulate the unique member identification number.\n",
    "4. Implement methods to register, renew, and cancel memberships.\n",
    "5. Subclasses such as 'FamilyMember' and 'IndividualMember' have been created successfully, which inherit from 'Member' class and specific attributes have also been added to family and individual memberships.\n",
    "6. The code has run successfully and the desired output has been generated."
   ]
  },
  {
   "cell_type": "markdown",
   "metadata": {},
   "source": [
    "Question No. - 9:\n",
    "\n",
    "Write a code for  Event Management System using OOPS.\n",
    "\n",
    "Perform the following:\n",
    "1. Create an Event class that has attributes such as name, date, time, location, and list of attendees (private).\n",
    "2. Implement methods to create a new event, add or remove attendees, and get the total number of attendees.\n",
    "3. Use encapsulation to hide the event's unique identification number.\n",
    "4. Inherit from the Event class to create a PrivateEvent class and a PublicEvent class, each with their own specific attributes and methods."
   ]
  },
  {
   "cell_type": "code",
   "execution_count": 19,
   "metadata": {},
   "outputs": [
    {
     "name": "stdout",
     "output_type": "stream",
     "text": [
      "2\n",
      "2\n"
     ]
    }
   ],
   "source": [
    "class Event:\n",
    "    def __init__(self, name, date, time, location):\n",
    "        self.__event_id = id(self)  # Encapsulated unique ID\n",
    "        self.name = name\n",
    "        self.date = date\n",
    "        self.time = time\n",
    "        self.location = location\n",
    "        self.__attendees = []\n",
    "\n",
    "    def add_attendee(self, attendee):\n",
    "        self.__attendees.append(attendee)\n",
    "\n",
    "    def remove_attendee(self, attendee):\n",
    "        self.__attendees.remove(attendee)\n",
    "\n",
    "    def get_total_attendees(self):\n",
    "        return len(self.__attendees)\n",
    "\n",
    "class PrivateEvent(Event):\n",
    "    def __init__(self, name, date, time, location, invitation_only=True):\n",
    "        super().__init__(name, date, time, location)\n",
    "        self.invitation_only = invitation_only\n",
    "\n",
    "class PublicEvent(Event):\n",
    "    def __init__(self, name, date, time, location, max_capacity):\n",
    "        super().__init__(name, date, time, location)\n",
    "        self.max_capacity = max_capacity\n",
    "\n",
    "# Example usage:\n",
    "birthday_party = PrivateEvent(\"Birthday Party\", \"2024-09-07\", \"18:00\", \"Anirban's House\")\n",
    "conference = PublicEvent(\"Tech Conference\", \"2024-09-15\", \"10:00\", \"Convention Center\", 500)\n",
    "birthday_party.add_attendee(\"Nitin\")\n",
    "birthday_party.add_attendee(\"Manzil\")\n",
    "conference.add_attendee(\"Shaimak\")\n",
    "conference.add_attendee(\"Kislay\")\n",
    "print(birthday_party.get_total_attendees())\n",
    "print(conference.get_total_attendees())"
   ]
  },
  {
   "cell_type": "markdown",
   "metadata": {},
   "source": [
    "Explanation:\n",
    "1. An 'Event' class has been created.\n",
    "2. It has attributes like 'name', 'date'. 'time', 'location' and a list of candidates.\n",
    "3. Encapsulate the unique event identification number.\n",
    "4. Implement methods to create an event, add/remove attendees, and get the total number of attendees.\n",
    "5. Subclasses such as 'PrivateEvent' and 'PublicEvent' have been created successfully, which inherit from 'Event' class and specific attributes have also been added to private and public events.\n",
    "6. The code has run successfully and the desired output has been generated."
   ]
  },
  {
   "cell_type": "markdown",
   "metadata": {},
   "source": [
    "Question No. - 10:\n",
    "\n",
    "Write a code for Airline Reservation System using OOPS.\n",
    "\n",
    "Perform the following:\n",
    "1. Create a Flight class that has attributes such as flight number, departure and arrival airports, departure and arrival times, and available seats (private).\n",
    "2. Implement methods to book a seat, cancel a reservation, and get the remaining available seats\n",
    "3. Use encapsulation to hide the flight's unique identification number\n",
    "4. Inherit from the Flight class to create a DomesticFlight class and an InternationalFlight class, each with their \n",
    "own specific attributes and methods."
   ]
  },
  {
   "cell_type": "code",
   "execution_count": 20,
   "metadata": {},
   "outputs": [
    {
     "name": "stdout",
     "output_type": "stream",
     "text": [
      "Seat booked successfully!\n",
      "Reservation canceled.\n",
      "99\n",
      "650\n"
     ]
    }
   ],
   "source": [
    "class Flight:\n",
    "    def __init__(self, flight_number, departure_airport, arrival_airport, departure_time, arrival_time, available_seats):\n",
    "        self.__flight_id = id(self)  # Encapsulated unique ID\n",
    "        self.flight_number = flight_number\n",
    "        self.departure_airport = departure_airport\n",
    "        self.arrival_airport = arrival_airport\n",
    "        self.departure_time = departure_time\n",
    "        self.arrival_time = arrival_time\n",
    "        self.available_seats = available_seats\n",
    "\n",
    "    def book_seat(self):\n",
    "        if self.available_seats > 0:\n",
    "            self.available_seats -= 1\n",
    "            return \"Seat booked successfully!\"\n",
    "        return \"No available seats.\"\n",
    "\n",
    "    def cancel_reservation(self):\n",
    "        self.available_seats += 1\n",
    "        return \"Reservation canceled.\"\n",
    "\n",
    "    def get_remaining_seats(self):\n",
    "        return self.available_seats\n",
    "\n",
    "class DomesticFlight(Flight):\n",
    "    def __init__(self, flight_number, departure_airport, arrival_airport, departure_time, arrival_time, available_seats, domestic_tax):\n",
    "        super().__init__(flight_number, departure_airport, arrival_airport, departure_time, arrival_time, available_seats)\n",
    "        self.domestic_tax = domestic_tax\n",
    "\n",
    "    def calculate_final_price(self, base_price):\n",
    "        return base_price + self.domestic_tax\n",
    "\n",
    "class InternationalFlight(Flight):\n",
    "    def __init__(self, flight_number, departure_airport, arrival_airport, departure_time, arrival_time, available_seats, international_tax):\n",
    "        super().__init__(flight_number, departure_airport, arrival_airport, departure_time, arrival_time, available_seats)\n",
    "        self.international_tax = international_tax\n",
    "\n",
    "    def calculate_final_price(self, base_price):\n",
    "        return base_price + self.international_tax\n",
    "\n",
    "# Example usage:\n",
    "domestic_flight = DomesticFlight(\"AI770\", \"IndiGo6E\", \"UK108\", \"2024-09-01 08:00\", \"2024-09-01 11:00\", 100, domestic_tax=50)\n",
    "international_flight = InternationalFlight(\"DL123\", \"JFK\", \"LHR\", \"2024-09-02 20:00\", \"2024-09-03 08:00\", 200, international_tax=150)\n",
    "\n",
    "print(domestic_flight.book_seat())\n",
    "print(international_flight.cancel_reservation())\n",
    "print(domestic_flight.get_remaining_seats())\n",
    "print(international_flight.calculate_final_price(500))"
   ]
  },
  {
   "cell_type": "markdown",
   "metadata": {},
   "source": [
    "Explanation:\n",
    "1. A 'Flight' class has been created.\n",
    "2. It has attributes like 'flight_number', 'departure_airport', 'arrival_airport', 'departure_time', 'arrival_time' and 'available_seats'.\n",
    "3. Encapsulate the unique flight identification number.\n",
    "4. Implement methods to book a seat, cancel a reservation, and get the remaining available seats.\n",
    "5. Subclasses such as 'DomesticFlight' and 'InternationalFlight' have been created successfully, which inherit from 'Flight' class and specific attributes have also been added to domestic and international flights.\n",
    "6. The code has run successfully and the desired output has been generated."
   ]
  },
  {
   "cell_type": "markdown",
   "metadata": {},
   "source": [
    "Question No. - 2 to Question No. - 10 --> All the questions of OOPS have been solved."
   ]
  }
 ],
 "metadata": {
  "kernelspec": {
   "display_name": "Python 3",
   "language": "python",
   "name": "python3"
  },
  "language_info": {
   "codemirror_mode": {
    "name": "ipython",
    "version": 3
   },
   "file_extension": ".py",
   "mimetype": "text/x-python",
   "name": "python",
   "nbconvert_exporter": "python",
   "pygments_lexer": "ipython3",
   "version": "3.12.1"
  }
 },
 "nbformat": 4,
 "nbformat_minor": 2
}
